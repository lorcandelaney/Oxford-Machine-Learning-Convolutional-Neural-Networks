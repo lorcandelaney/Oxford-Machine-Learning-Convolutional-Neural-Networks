{
 "cells": [
  {
   "cell_type": "code",
   "execution_count": 2,
   "metadata": {},
   "outputs": [],
   "source": [
    "%matplotlib notebook\n",
    "%matplotlib inline\n",
    "\n",
    "from matplotlib import pylab\n",
    "pylab.rcParams['figure.figsize'] = (10.0, 10.0)\n",
    "\n",
    "from tensorflow.examples.tutorials.mnist import input_data\n",
    "\n",
    "import matplotlib.pyplot as plt\n",
    "import numpy as np\n",
    "import tensorflow as tf"
   ]
  },
  {
   "cell_type": "markdown",
   "metadata": {},
   "source": [
    "### Initialisations\n",
    "\n",
    "Let us write some helper functions to initialise weights and biases. We'll initialise weights as Gaussian random variables with mean 0 and variance 0.0025. For biases we'll initialise everything with a constant 0.1. This is because we're mainly going to be using ReLU non-linearities."
   ]
  },
  {
   "cell_type": "code",
   "execution_count": 3,
   "metadata": {},
   "outputs": [],
   "source": [
    "def weight_variable(shape):\n",
    "    initial = tf.truncated_normal(shape, stddev=0.05)\n",
    "    return tf.Variable(initial)\n",
    "\n",
    "def bias_variable(shape):\n",
    "    initial = tf.constant(0.1, shape=shape)\n",
    "    return tf.Variable(initial)"
   ]
  },
  {
   "cell_type": "markdown",
   "metadata": {},
   "source": [
    "### Model\n",
    "\n",
    "Let's define the model. The model is defined as follows:\n",
    "\n",
    "* An input that is 728 dimensional vector. \n",
    "* Reshape the input as 28x28x1 images (only 1 because they are grey scale) \n",
    "* A convolutional layer with 25 filters of shape 12x12x1 and a ReLU non-linearity (with stride (2, 2) and no padding)\n",
    "* A convolutional layer with 64 filters of shape 5x5x25 and a ReLU non-linearity (with stride (1, 2) and padding to maintain size)\n",
    "* A max_pooling layer of shape 2x2\n",
    "* A fully connected layer taking all the outputs of the max_pooling layer to 1024 units and ReLU nonlinearity\n",
    "* A fully connected layer taking 1024 units to 10 no activation function (the softmax non-linearity will be included in the loss function rather than in the model)"
   ]
  },
  {
   "cell_type": "code",
   "execution_count": 4,
   "metadata": {},
   "outputs": [],
   "source": [
    "x = tf.placeholder(tf.float32, shape=[None, 784])\n",
    "x_ = tf.reshape(x, [-1, 28, 28, 1])\n",
    "y_ = tf.placeholder(tf.float32, shape=[None, 10])\n",
    "\n",
    "# Define the first convolution layer here\n",
    "# TODO\n",
    "W_conv1 = weight_variable([12, 12, 1, 25])\n",
    "b_conv1 = bias_variable([25])\n",
    "h_conv1 = tf.nn.relu(tf.nn.conv2d(x_, W_conv1, \n",
    "                                  strides=[1, 2, 2, 1], padding='VALID'))\n",
    "\n",
    "# Define the second convolution layer here\n",
    "W_conv2 = weight_variable([5, 5, 25, 64])\n",
    "b_conv2 = bias_variable([64])\n",
    "h_conv2 = tf.nn.relu(tf.nn.conv2d(h_conv1, \n",
    "                                  W_conv2, strides=[1, 1, 1, 1], padding='SAME'))\n",
    "\n",
    "# Define maxpooling\n",
    "h_pool2 = tf.nn.max_pool(h_conv2, ksize=[1, 2, 2, 1], \n",
    "                         strides=[1, 2, 2, 1], padding='VALID')\n",
    "\n",
    "# All subsequent layers will be fully connected ignoring geometry so we'll flatten the layer\n",
    "# Flatten the h_pool2_layer (as it has a multidimensiona shape) \n",
    "h_pool2_flat = tf.reshape(h_pool2, [-1, 4*4*64])\n",
    "\n",
    "# Define the first fully connected layer here\n",
    "W_fc1 = weight_variable([4 * 4 * 64, 1024])\n",
    "b_fc1 = bias_variable([1024])\n",
    "h_fc1 = tf.nn.relu(tf.matmul(h_pool2_flat, W_fc1) + b_fc1)\n",
    "\n",
    "# Use dropout for this layer (should you wish)\n",
    "keep_prob = tf.placeholder(tf.float32)\n",
    "h_fc1_drop = tf.nn.dropout(h_fc1, keep_prob)\n",
    "\n",
    "# The final fully connected layer\n",
    "W_fc2 = weight_variable([1024, 10])\n",
    "b_fc2 = bias_variable([10])\n",
    "y_conv = tf.nn.relu(tf.matmul(h_fc1_drop, W_fc2) + b_fc2)"
   ]
  },
  {
   "cell_type": "markdown",
   "metadata": {},
   "source": [
    "#### Loss Function, Accuracy and Training Algorithm\n",
    "\n",
    "* We'll use the cross entropy loss function. The loss function is called `tf.nn.cross_entropy_with_logits` in tensorflow\n",
    "\n",
    "* Accuray is simply defined as the fraction of data correctly classified\n",
    "\n",
    "* For training you should use the AdamOptimizer (read the documentation) and set the learning rate to be 1e-4. You are welcome, and in fact encouraged, to experiment with other optimisation procedures and learning rates. \n",
    "\n",
    "* (Optional): You may even want to use different filter sizes once you are finished with experimenting with what is asked in this practial"
   ]
  },
  {
   "cell_type": "code",
   "execution_count": 5,
   "metadata": {},
   "outputs": [
    {
     "name": "stdout",
     "output_type": "stream",
     "text": [
      "WARNING:tensorflow:From <ipython-input-5-10e0b012a53a>:2: softmax_cross_entropy_with_logits (from tensorflow.python.ops.nn_ops) is deprecated and will be removed in a future version.\n",
      "Instructions for updating:\n",
      "\n",
      "Future major versions of TensorFlow will allow gradients to flow\n",
      "into the labels input on backprop by default.\n",
      "\n",
      "See `tf.nn.softmax_cross_entropy_with_logits_v2`.\n",
      "\n"
     ]
    }
   ],
   "source": [
    "# We'll use the cross entropy loss function \n",
    "cross_entropy = tf.reduce_mean(tf.nn.softmax_cross_entropy_with_logits(\n",
    "    logits=y_conv, labels=y_))\n",
    "\n",
    "# And classification accuracy\n",
    "correct_prediction = tf.equal(tf.argmax(y_conv, 1), tf.argmax(y_, 1))\n",
    "accuracy = tf.reduce_mean(tf.cast(correct_prediction, tf.float32))\n",
    "\n",
    "# And the Adam optimiser\n",
    "train_step = tf.train.AdamOptimizer(learning_rate=1e-4).minimize(\n",
    "    cross_entropy)"
   ]
  },
  {
   "cell_type": "code",
   "execution_count": 6,
   "metadata": {},
   "outputs": [
    {
     "name": "stdout",
     "output_type": "stream",
     "text": [
      "WARNING:tensorflow:From <ipython-input-6-19c914ec135d>:2: read_data_sets (from tensorflow.contrib.learn.python.learn.datasets.mnist) is deprecated and will be removed in a future version.\n",
      "Instructions for updating:\n",
      "Please use alternatives such as official/mnist/dataset.py from tensorflow/models.\n",
      "WARNING:tensorflow:From /Users/lorcandelaney/anaconda3/lib/python3.6/site-packages/tensorflow/contrib/learn/python/learn/datasets/mnist.py:260: maybe_download (from tensorflow.contrib.learn.python.learn.datasets.base) is deprecated and will be removed in a future version.\n",
      "Instructions for updating:\n",
      "Please write your own downloading logic.\n",
      "WARNING:tensorflow:From /Users/lorcandelaney/anaconda3/lib/python3.6/site-packages/tensorflow/contrib/learn/python/learn/datasets/mnist.py:262: extract_images (from tensorflow.contrib.learn.python.learn.datasets.mnist) is deprecated and will be removed in a future version.\n",
      "Instructions for updating:\n",
      "Please use tf.data to implement this functionality.\n",
      "Extracting MNIST_data/train-images-idx3-ubyte.gz\n",
      "WARNING:tensorflow:From /Users/lorcandelaney/anaconda3/lib/python3.6/site-packages/tensorflow/contrib/learn/python/learn/datasets/mnist.py:267: extract_labels (from tensorflow.contrib.learn.python.learn.datasets.mnist) is deprecated and will be removed in a future version.\n",
      "Instructions for updating:\n",
      "Please use tf.data to implement this functionality.\n",
      "Extracting MNIST_data/train-labels-idx1-ubyte.gz\n",
      "WARNING:tensorflow:From /Users/lorcandelaney/anaconda3/lib/python3.6/site-packages/tensorflow/contrib/learn/python/learn/datasets/mnist.py:110: dense_to_one_hot (from tensorflow.contrib.learn.python.learn.datasets.mnist) is deprecated and will be removed in a future version.\n",
      "Instructions for updating:\n",
      "Please use tf.one_hot on tensors.\n",
      "Extracting MNIST_data/t10k-images-idx3-ubyte.gz\n",
      "Extracting MNIST_data/t10k-labels-idx1-ubyte.gz\n",
      "WARNING:tensorflow:From /Users/lorcandelaney/anaconda3/lib/python3.6/site-packages/tensorflow/contrib/learn/python/learn/datasets/mnist.py:290: DataSet.__init__ (from tensorflow.contrib.learn.python.learn.datasets.mnist) is deprecated and will be removed in a future version.\n",
      "Instructions for updating:\n",
      "Please use alternatives such as official/mnist/dataset.py from tensorflow/models.\n"
     ]
    }
   ],
   "source": [
    "# Load the mnist data\n",
    "mnist = input_data.read_data_sets('MNIST_data', one_hot=True)"
   ]
  },
  {
   "cell_type": "code",
   "execution_count": 7,
   "metadata": {},
   "outputs": [
    {
     "data": {
      "image/png": "[encoded data removed]",
      "text/plain": [
       "<matplotlib.figure.Figure at 0x131edc8d0>"
      ]
     },
     "metadata": {},
     "output_type": "display_data"
    }
   ],
   "source": [
    "# Let us visualise the first 16 data points from the MNIST training data\n",
    "\n",
    "fig = plt.figure()\n",
    "for i in range(16):\n",
    "    ax = fig.add_subplot(4, 4, i + 1)\n",
    "    ax.set_xticks(())\n",
    "    ax.set_yticks(())\n",
    "    ax.imshow(mnist.train.images[i].reshape(28, 28), cmap='Greys_r')  "
   ]
  },
  {
   "cell_type": "code",
   "execution_count": 10,
   "metadata": {},
   "outputs": [
    {
     "name": "stdout",
     "output_type": "stream",
     "text": [
      "Step 0, training accuracy 0.02\n",
      "Test accuracy: 0.1356\n",
      "Step 100, training accuracy 0.64\n",
      "Test accuracy: 0.7722\n",
      "Step 200, training accuracy 0.86\n",
      "Test accuracy: 0.8963\n",
      "Step 300, training accuracy 0.96\n",
      "Test accuracy: 0.9147\n",
      "Step 400, training accuracy 0.96\n",
      "Test accuracy: 0.9281\n",
      "Step 500, training accuracy 0.92\n",
      "Test accuracy: 0.939\n",
      "Step 600, training accuracy 0.94\n",
      "Test accuracy: 0.9454\n",
      "Step 700, training accuracy 0.96\n",
      "Test accuracy: 0.948\n",
      "Step 800, training accuracy 0.92\n",
      "Test accuracy: 0.9527\n",
      "Step 900, training accuracy 0.98\n",
      "Test accuracy: 0.9575\n",
      "Step 1000, training accuracy 0.96\n",
      "Test accuracy: 0.9555\n",
      "Step 1100, training accuracy 1\n",
      "Test accuracy: 0.9635\n",
      "Step 1200, training accuracy 0.98\n",
      "Test accuracy: 0.9675\n",
      "Step 1300, training accuracy 0.98\n",
      "Test accuracy: 0.9671\n",
      "Step 1400, training accuracy 0.96\n",
      "Test accuracy: 0.966\n",
      "Step 1500, training accuracy 1\n",
      "Test accuracy: 0.9704\n",
      "Step 1600, training accuracy 0.96\n",
      "Test accuracy: 0.9717\n",
      "Step 1700, training accuracy 0.94\n",
      "Test accuracy: 0.9726\n",
      "Step 1800, training accuracy 1\n",
      "Test accuracy: 0.9731\n",
      "Step 1900, training accuracy 0.98\n",
      "Test accuracy: 0.9744\n",
      "Step 2000, training accuracy 1\n",
      "Test accuracy: 0.9739\n",
      "Step 2100, training accuracy 0.96\n",
      "Test accuracy: 0.9759\n",
      "Step 2200, training accuracy 0.92\n",
      "Test accuracy: 0.9768\n",
      "Step 2300, training accuracy 1\n",
      "Test accuracy: 0.9752\n",
      "Step 2400, training accuracy 0.96\n",
      "Test accuracy: 0.9781\n",
      "Step 2500, training accuracy 0.96\n",
      "Test accuracy: 0.9787\n",
      "Step 2600, training accuracy 0.98\n",
      "Test accuracy: 0.9777\n",
      "Step 2700, training accuracy 0.98\n",
      "Test accuracy: 0.9764\n",
      "Step 2800, training accuracy 0.98\n",
      "Test accuracy: 0.9801\n",
      "Step 2900, training accuracy 1\n",
      "Test accuracy: 0.9802\n"
     ]
    }
   ],
   "source": [
    "# Start a tf session and run the optimisation algorithm\n",
    "sess = tf.Session()\n",
    "sess.run(tf.global_variables_initializer())\n",
    "\n",
    "for i in range(3000):\n",
    "    batch = mnist.train.next_batch(50)\n",
    "    if i%100 == 0:\n",
    "        train_accuracy = accuracy.eval(session = sess, feed_dict={\n",
    "            x:batch[0], y_: batch[1], keep_prob:1.0})\n",
    "        print(\"Step %d, training accuracy %g\"%(i, train_accuracy))\n",
    "        print(\"Test accuracy: %g\" % sess.run(accuracy, feed_dict={\n",
    "            x: mnist.test.images, y_: mnist.test.labels, keep_prob: 1.0}))\n",
    "    train_step.run(session = sess, feed_dict={x: batch[0], \n",
    "                                              y_: batch[1], keep_prob: 0.5})\n",
    "    "
   ]
  },
  {
   "cell_type": "code",
   "execution_count": 12,
   "metadata": {},
   "outputs": [
    {
     "name": "stdout",
     "output_type": "stream",
     "text": [
      "Test accuracy: 0.9794\n"
     ]
    }
   ],
   "source": [
    "# Print accuracy on the test set\n",
    "x_test = mnist.test.images\n",
    "y_test = mnist.test.labels\n",
    "\n",
    "print ('Test accuracy: %g' % sess.run(accuracy, feed_dict={x: mnist.test.images, y_: mnist.test.labels, keep_prob: 1.0}))\n",
    "\n"
   ]
  },
  {
   "cell_type": "markdown",
   "metadata": {},
   "source": [
    "#### Visualising the Filters\n",
    "\n",
    "We'll now visualise all the 32 filters in the first convolution layer. As they are each of shape 12x12x1, they may themselves be viewed as greyscale images. Visualising filters in further layers is more complicated and involves modifying the neural network. See the [paper](http://www.matthewzeiler.com/pubs/arxive2013/arxive2013.pdf) by Matt Zeiler and Rob Fergus if you are interested. "
   ]
  },
  {
   "cell_type": "code",
   "execution_count": 175,
   "metadata": {},
   "outputs": [
    {
     "data": {
      "image/png": "[encoded data removed]",
      "text/plain": [
       "<matplotlib.figure.Figure at 0x133bf2a90>"
      ]
     },
     "metadata": {},
     "output_type": "display_data"
    }
   ],
   "source": [
    "# Visualise the filters in the first convolutional layer\n",
    "with sess.as_default():\n",
    "    W = W_conv1.eval()\n",
    "    transp_W = np.transpose(W, [3, 0, 1, 2]) \n",
    "\n",
    "    fig = plt.figure()\n",
    "    for i in range(25):\n",
    "        ax = fig.add_subplot(5, 5, i + 1)\n",
    "        ax.set_xticks(())\n",
    "        ax.set_yticks(())\n",
    "        ax.imshow(transp_W[i].reshape(12, 12), cmap='Greys_r')  \n",
    "    plt.show()\n",
    "\n"
   ]
  },
  {
   "cell_type": "markdown",
   "metadata": {},
   "source": [
    "#### Identifying image patches that activate the filters\n",
    "\n",
    "For this part you'll find the 12 patches in the test-set that activate each of the first 5 filters that maximise the activation for that filter."
   ]
  },
  {
   "cell_type": "code",
   "execution_count": 176,
   "metadata": {},
   "outputs": [
    {
     "data": {
      "image/png": "[encoded data removed]",
      "text/plain": [
       "<matplotlib.figure.Figure at 0x12bc51828>"
      ]
     },
     "metadata": {},
     "output_type": "display_data"
    }
   ],
   "source": [
    "H =  sess.run(h_conv1, feed_dict={x: mnist.test.images})\n",
    "transp_outputs = np.transpose(H, [0, 3, 1, 2]) #NCHW\n",
    "\n",
    "reshaped_test_images = mnist.test.images.reshape(10000, 28, 28)\n",
    "\n",
    "\n",
    "best_act_values = [0.0 for _ in range(12)]\n",
    "best_patches = [np.zeros(shape=(12, 12)) for _ in range(12)]\n",
    "\n",
    "for i in range(len(transp_outputs)): # for all images in test dataset\n",
    "  activations = transp_outputs[i]\n",
    "\n",
    "  for j in range(5): # first 5 activations\n",
    "    activation = activations[j]\n",
    "\n",
    "    for (x,y), val in np.ndenumerate(activation):\n",
    "      for k in range(len(best_act_values)):\n",
    "        if val > best_act_values[k]:\n",
    "          best_act_values[k] = val\n",
    "          best_patches[k] = reshaped_test_images[i, (x*2):(x*2+12), (y*2):(y*2+12)]\n",
    "          break\n",
    "        \n",
    "plt.figure(figsize=(10,10))\n",
    "for i in range(12):\n",
    "    plt.subplot(4,3,i+1)\n",
    "    plt.xticks([])\n",
    "    plt.yticks([])\n",
    "    plt.grid(False)\n",
    "    plt.imshow(best_patches[i].reshape(12, 12), cmap='Greys_r')\n",
    "plt.show()\n",
    "\n",
    "# Add code to visualise patches in the test set that find the most result in \n",
    "# the highest activations for filters 0, ... 4\n"
   ]
  }
 ],
 "metadata": {
  "anaconda-cloud": {},
  "kernelspec": {
   "display_name": "Python 3",
   "language": "python",
   "name": "python3"
  },
  "language_info": {
   "codemirror_mode": {
    "name": "ipython",
    "version": 3
   },
   "file_extension": ".py",
   "mimetype": "text/x-python",
   "name": "python",
   "nbconvert_exporter": "python",
   "pygments_lexer": "ipython3",
   "version": "3.6.4"
  }
 },
 "nbformat": 4,
 "nbformat_minor": 1
}
