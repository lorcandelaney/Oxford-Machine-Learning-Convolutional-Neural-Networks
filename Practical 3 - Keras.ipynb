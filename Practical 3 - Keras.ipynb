{
 "cells": [
  {
   "cell_type": "code",
   "execution_count": 1,
   "metadata": {},
   "outputs": [
    {
     "name": "stderr",
     "output_type": "stream",
     "text": [
      "/Users/lorcandelaney/anaconda3/lib/python3.6/site-packages/h5py/__init__.py:36: FutureWarning: Conversion of the second argument of issubdtype from `float` to `np.floating` is deprecated. In future, it will be treated as `np.float64 == np.dtype(float).type`.\n",
      "  from ._conv import register_converters as _register_converters\n"
     ]
    },
    {
     "name": "stdout",
     "output_type": "stream",
     "text": [
      "WARNING:tensorflow:From <ipython-input-1-98bcf2c49dab>:10: read_data_sets (from tensorflow.contrib.learn.python.learn.datasets.mnist) is deprecated and will be removed in a future version.\n",
      "Instructions for updating:\n",
      "Please use alternatives such as official/mnist/dataset.py from tensorflow/models.\n",
      "WARNING:tensorflow:From /Users/lorcandelaney/anaconda3/lib/python3.6/site-packages/tensorflow/contrib/learn/python/learn/datasets/mnist.py:260: maybe_download (from tensorflow.contrib.learn.python.learn.datasets.base) is deprecated and will be removed in a future version.\n",
      "Instructions for updating:\n",
      "Please write your own downloading logic.\n",
      "WARNING:tensorflow:From /Users/lorcandelaney/anaconda3/lib/python3.6/site-packages/tensorflow/contrib/learn/python/learn/datasets/mnist.py:262: extract_images (from tensorflow.contrib.learn.python.learn.datasets.mnist) is deprecated and will be removed in a future version.\n",
      "Instructions for updating:\n",
      "Please use tf.data to implement this functionality.\n",
      "Extracting MNIST_data/train-images-idx3-ubyte.gz\n",
      "WARNING:tensorflow:From /Users/lorcandelaney/anaconda3/lib/python3.6/site-packages/tensorflow/contrib/learn/python/learn/datasets/mnist.py:267: extract_labels (from tensorflow.contrib.learn.python.learn.datasets.mnist) is deprecated and will be removed in a future version.\n",
      "Instructions for updating:\n",
      "Please use tf.data to implement this functionality.\n",
      "Extracting MNIST_data/train-labels-idx1-ubyte.gz\n",
      "WARNING:tensorflow:From /Users/lorcandelaney/anaconda3/lib/python3.6/site-packages/tensorflow/contrib/learn/python/learn/datasets/mnist.py:110: dense_to_one_hot (from tensorflow.contrib.learn.python.learn.datasets.mnist) is deprecated and will be removed in a future version.\n",
      "Instructions for updating:\n",
      "Please use tf.one_hot on tensors.\n",
      "Extracting MNIST_data/t10k-images-idx3-ubyte.gz\n",
      "Extracting MNIST_data/t10k-labels-idx1-ubyte.gz\n",
      "WARNING:tensorflow:From /Users/lorcandelaney/anaconda3/lib/python3.6/site-packages/tensorflow/contrib/learn/python/learn/datasets/mnist.py:290: DataSet.__init__ (from tensorflow.contrib.learn.python.learn.datasets.mnist) is deprecated and will be removed in a future version.\n",
      "Instructions for updating:\n",
      "Please use alternatives such as official/mnist/dataset.py from tensorflow/models.\n",
      "\n",
      "\n",
      "\n",
      "\n",
      "\n",
      "\n"
     ]
    },
    {
     "data": {
      "text/plain": [
       "<matplotlib.figure.Figure at 0x1220f9cf8>"
      ]
     },
     "metadata": {},
     "output_type": "display_data"
    },
    {
     "name": "stdout",
     "output_type": "stream",
     "text": [
      "Epoch 1/2\n",
      "55000/55000 [==============================] - 60s 1ms/step - loss: 0.3717 - acc: 0.8976\n",
      "Epoch 2/2\n",
      "55000/55000 [==============================] - 51s 920us/step - loss: 0.1102 - acc: 0.9669\n",
      "10000/10000 [==============================] - 3s 289us/step\n",
      "Accuracy: 0.9773\n"
     ]
    },
    {
     "data": {
      "text/plain": [
       "<matplotlib.figure.Figure at 0x13911b4a8>"
      ]
     },
     "metadata": {},
     "output_type": "display_data"
    },
    {
     "data": {
      "text/plain": [
       "<matplotlib.figure.Figure at 0x12c536128>"
      ]
     },
     "metadata": {},
     "output_type": "display_data"
    }
   ],
   "source": [
    "\n",
    "###### ALTERNATIVE CODE FOR PERSONAL EXPERIMENTATION USING KERAS #########\n",
    "\n",
    "import tensorflow as tf \n",
    "import numpy as np\n",
    "import matplotlib.pyplot as plt\n",
    "\n",
    "from tensorflow import keras\n",
    "from tensorflow.examples.tutorials.mnist import input_data\n",
    "\n",
    "sess = tf.Session(config=tf.ConfigProto(log_device_placement=True))\n",
    "\n",
    "mnist = input_data.read_data_sets('MNIST_data', one_hot=True)\n",
    "\n",
    "print(\"\\n\\n\\n\\n\\n\")\n",
    "\n",
    "Ntrain = mnist.train.images.shape[0]\n",
    "Ntest  = mnist.test.images.shape[0]\n",
    "\n",
    "reshaped_train_images = np.zeros(shape=(Ntrain, 28, 28, 1))\n",
    "reshaped_test_images  = np.zeros(shape=(Ntest, 28, 28, 1))\n",
    "for i in range(Ntrain):\n",
    "\treshaped_train_images[i] = mnist.train.images[i].reshape(28, 28, 1)\n",
    "for i in range(Ntest):\n",
    "  reshaped_test_images[i] = mnist.test.images[i].reshape(28, 28, 1)\n",
    "\n",
    "# Show train dataset\n",
    "plt.figure(figsize=(10,10))\n",
    "for i in range(16):\n",
    "    plt.subplot(4,4,i+1)\n",
    "    plt.xticks([])\n",
    "    plt.yticks([])\n",
    "    plt.grid(False)\n",
    "    plt.imshow(reshaped_train_images[i].reshape(28, 28), cmap='Greys_r')\n",
    "plt.show()\n",
    "\n",
    "# Build model\n",
    "model = keras.Sequential([\n",
    "    keras.layers.Conv2D(filters=25, kernel_size=(12, 12), strides=(2, 2), padding='valid', activation='relu', input_shape=(28, 28, 1)),\n",
    "    keras.layers.Conv2D(filters=64, kernel_size=(5, 5), strides=(1, 1), padding='same', activation='relu'),\n",
    "    keras.layers.MaxPooling2D(pool_size=(2, 2)),\n",
    "    keras.layers.Flatten(),\n",
    "    keras.layers.Dense(1024, activation='relu'),\n",
    "\tkeras.layers.Dense(10),\n",
    "\tkeras.layers.Activation('softmax')\n",
    "])\n",
    "\n",
    "model.compile(optimizer=keras.optimizers.Adam(lr=1e-4), \n",
    "              loss='categorical_crossentropy',\n",
    "              metrics=['accuracy'])\n",
    "\n",
    "# Train model\n",
    "model.fit(reshaped_train_images, mnist.train.labels, batch_size=50, epochs=2)\n",
    "\n",
    "# Evaluate and print accuracy\n",
    "loss, acc = model.evaluate(reshaped_test_images, mnist.test.labels)\n",
    "print('Accuracy:', acc)\n",
    "\n",
    "\n",
    "# Find and show set of first 25 trained weights\n",
    "weights_mat = model.get_weights()[0]\n",
    "weights = np.split(weights_mat, 25, 3)\n",
    "\n",
    "plt.figure(figsize=(10,10))\n",
    "for i in range(25):\n",
    "    plt.subplot(5,5,i+1)\n",
    "    plt.xticks([])\n",
    "    plt.yticks([])\n",
    "    plt.grid(False)\n",
    "    plt.imshow(weights[i].reshape(12, 12), cmap='Greys_r')\n",
    "plt.show()\n",
    "\n",
    "# Find and show 12 best activations for first 5 filters\n",
    "intermediate_layer_model = keras.Model(inputs=model.inputs, outputs=model.layers[0].output)\n",
    "intermediate_outputs = intermediate_layer_model.predict(reshaped_test_images)\n",
    "transp_outputs = np.transpose(intermediate_outputs, [0, 3, 1, 2]) #NCHW\n",
    "\n",
    "best_act_values = [0.0 for _ in range(12)]\n",
    "best_patches = [np.zeros(shape=(12, 12)) for _ in range(12)]\n",
    "\n",
    "for i in range(len(transp_outputs)): # for all images in test dataset\n",
    "  activations = transp_outputs[i]\n",
    "\n",
    "  for j in range(5): # first 5 filters\n",
    "    activation = activations[j]\n",
    "\n",
    "    for (x,y), val in np.ndenumerate(activation):\n",
    "      for k in range(len(best_act_values)):\n",
    "        if val > best_act_values[k]:\n",
    "          best_act_values[k] = val\n",
    "          best_patches[k] = reshaped_test_images[i, (x*2):(x*2+12), (y*2):(y*2+12)]\n",
    "          break\n",
    "\n",
    "plt.figure(figsize=(10,10))\n",
    "for i in range(12):\n",
    "    plt.subplot(4,3,i+1)\n",
    "    plt.xticks([])\n",
    "    plt.yticks([])\n",
    "    plt.grid(False)\n",
    "    plt.imshow(best_patches[i].reshape(12, 12), cmap='Greys_r')\n",
    "plt.show()"
   ]
  },
  {
   "cell_type": "code",
   "execution_count": null,
   "metadata": {},
   "outputs": [],
   "source": []
  }
 ],
 "metadata": {
  "kernelspec": {
   "display_name": "Python 3",
   "language": "python",
   "name": "python3"
  },
  "language_info": {
   "codemirror_mode": {
    "name": "ipython",
    "version": 3
   },
   "file_extension": ".py",
   "mimetype": "text/x-python",
   "name": "python",
   "nbconvert_exporter": "python",
   "pygments_lexer": "ipython3",
   "version": "3.6.4"
  }
 },
 "nbformat": 4,
 "nbformat_minor": 2
}
